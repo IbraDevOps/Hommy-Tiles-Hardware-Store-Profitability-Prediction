{
 "cells": [
  {
   "cell_type": "markdown",
   "metadata": {},
   "source": [
    "This is project trying to use a retail dataset to provide a future profit/loss that the store will make using linear regression model and later use random forest regressor for\n",
    "comparison "
   ]
  },
  {
   "cell_type": "code",
   "execution_count": null,
   "metadata": {},
   "outputs": [],
   "source": [
    "import numpy as np\n",
    "import pandas as pd"
   ]
  },
  {
   "cell_type": "markdown",
   "metadata": {},
   "source": [
    "The first part is data cleaning and understanding,here we handle missing values,correct invalid data, convert data column to datetime format and also remove duplicate."
   ]
  },
  {
   "cell_type": "code",
   "execution_count": null,
   "metadata": {},
   "outputs": [],
   "source": [
    "import numpy as np\n",
    "import pandas as pd\n",
    "\n",
    "# Load the dataset\n",
    "File_Path = \"retail_sales_dataset.csv\"  # Make sure this points to the correct file\n",
    "retail_data = pd.read_csv(File_Path)\n",
    "\n",
    "# Print first few rows to verify it's loaded correctly\n",
    "print(retail_data.head())\n",
    "\n",
    "# Check for missing or null values\n",
    "print(\"\\nMissing Values in the Dataset:\")\n",
    "print(retail_data.isnull().sum())\n",
    "\n",
    "# Check for invalid data (e.g., negative amounts)\n",
    "print(\"\\nChecking for invalid data:\")\n",
    "invalid_data = retail_data[(retail_data['Quantity'] < 0) | (retail_data['Price per Unit'] < 0) | (retail_data['Total Amount'] < 0)]\n",
    "print(invalid_data)\n",
    "\n",
    "# Convert the Date column to a datetime format\n",
    "print(\"\\nConverting 'Date' column to datetime format.\")\n",
    "retail_data['Date'] = pd.to_datetime(retail_data['Date'], errors='coerce')\n",
    "\n",
    "# Remove duplicate rows\n",
    "print(\"\\nRemoving duplicate rows.\")\n",
    "retail_data = retail_data.drop_duplicates()\n",
    "\n",
    "# Sort data by Date\n",
    "print(\"\\nSorting data by 'Date'.\")\n",
    "retail_data = retail_data.sort_values(by='Date')\n",
    "\n",
    "# Display cleaned dataset overview\n",
    "print(\"\\nCleaned Dataset Overview:\")\n",
    "print(retail_data.info())\n",
    "\n",
    "# Show first few rows of the cleaned dataset\n",
    "print(\"\\nFirst few rows of the cleaned dataset:\")\n",
    "print(retail_data.head())\n"
   ]
  }
 ],
 "metadata": {
  "kernelspec": {
   "display_name": "Python 3",
   "language": "python",
   "name": "python3"
  },
  "language_info": {
   "codemirror_mode": {
    "name": "ipython",
    "version": 3
   },
   "file_extension": ".py",
   "mimetype": "text/x-python",
   "name": "python",
   "nbconvert_exporter": "python",
   "pygments_lexer": "ipython3",
   "version": "3.11.9"
  }
 },
 "nbformat": 4,
 "nbformat_minor": 2
}
